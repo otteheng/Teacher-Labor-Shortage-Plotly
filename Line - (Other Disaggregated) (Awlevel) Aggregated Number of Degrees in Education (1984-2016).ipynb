{
 "cells": [
  {
   "cell_type": "markdown",
   "metadata": {},
   "source": [
    "# Graphs\n",
    "\n",
    "## \"Other\" Disaggregated (Award Levels) \n",
    "\n",
    "Will cover years: 1984-2916. These graphs will include the counts by award level (Bachelor, Master's, PhD). The goal is to create a plot with the \"Other\" category in \"*aggregate num of degrees by cipcode(4) awlevel.dta*\" used in \"*Line - (Awlevel) Aggregated Number of Degrees in Education (1984-2016)*\" dissaggregated and be able to see which CIP codes are driving the increase in the other category. "
   ]
  },
  {
   "cell_type": "code",
   "execution_count": 1,
   "metadata": {
    "collapsed": true
   },
   "outputs": [],
   "source": [
    "import numpy as np\n",
    "import pandas as pd\n",
    "import os"
   ]
  },
  {
   "cell_type": "code",
   "execution_count": 19,
   "metadata": {
    "collapsed": true
   },
   "outputs": [],
   "source": [
    "os.chdir(r\"H:\\Teacher Labor MRKT Shortage\\IPEDS\\Completions_CIP codes\\New CIP data\\Data files used for graphs\")\n",
    "df = pd.read_stata(\"aggregate num of degrees by cipcode(47) awlevel_other disaggregated.dta\")"
   ]
  },
  {
   "cell_type": "code",
   "execution_count": 3,
   "metadata": {},
   "outputs": [
    {
     "data": {
      "text/html": [
       "<div>\n",
       "<style>\n",
       "    .dataframe thead tr:only-child th {\n",
       "        text-align: right;\n",
       "    }\n",
       "\n",
       "    .dataframe thead th {\n",
       "        text-align: left;\n",
       "    }\n",
       "\n",
       "    .dataframe tbody tr th {\n",
       "        vertical-align: top;\n",
       "    }\n",
       "</style>\n",
       "<table border=\"1\" class=\"dataframe\">\n",
       "  <thead>\n",
       "    <tr style=\"text-align: right;\">\n",
       "      <th></th>\n",
       "      <th>year</th>\n",
       "      <th>admin__special_ed5</th>\n",
       "      <th>adult_continuing_ed_admin5</th>\n",
       "      <th>adult_continuing_ed_tch5</th>\n",
       "      <th>agricultural_tch_ed5</th>\n",
       "      <th>art_tch_ed5</th>\n",
       "      <th>business_tch_ed5</th>\n",
       "      <th>coll_student_counseling__perso5</th>\n",
       "      <th>community_coll_ed5</th>\n",
       "      <th>counselor_ed_school_counseling5</th>\n",
       "      <th>...</th>\n",
       "      <th>spanish_tch_ed9</th>\n",
       "      <th>sped9</th>\n",
       "      <th>speech_tch_ed9</th>\n",
       "      <th>stem9</th>\n",
       "      <th>tch_assistant_aide9</th>\n",
       "      <th>tch_ed_multiple_levels9</th>\n",
       "      <th>tch_ed_prof_dev_levelmethod9</th>\n",
       "      <th>tch_ed_prof_dev_subjectarea9</th>\n",
       "      <th>teaching_english_as_a_second_o9</th>\n",
       "      <th>aggtotal</th>\n",
       "    </tr>\n",
       "  </thead>\n",
       "  <tbody>\n",
       "    <tr>\n",
       "      <th>0</th>\n",
       "      <td>1984.0</td>\n",
       "      <td>0.0</td>\n",
       "      <td>0.0</td>\n",
       "      <td>136.0</td>\n",
       "      <td>866.0</td>\n",
       "      <td>1448.0</td>\n",
       "      <td>2106.0</td>\n",
       "      <td>0.0</td>\n",
       "      <td>0.0</td>\n",
       "      <td>122.0</td>\n",
       "      <td>...</td>\n",
       "      <td>0.0</td>\n",
       "      <td>239.0</td>\n",
       "      <td>0.0</td>\n",
       "      <td>532.0</td>\n",
       "      <td>0.0</td>\n",
       "      <td>0.0</td>\n",
       "      <td>66.0</td>\n",
       "      <td>159.0</td>\n",
       "      <td>4.0</td>\n",
       "      <td>177679.0</td>\n",
       "    </tr>\n",
       "    <tr>\n",
       "      <th>1</th>\n",
       "      <td>1985.0</td>\n",
       "      <td>0.0</td>\n",
       "      <td>1.0</td>\n",
       "      <td>300.0</td>\n",
       "      <td>817.0</td>\n",
       "      <td>1292.0</td>\n",
       "      <td>2104.0</td>\n",
       "      <td>0.0</td>\n",
       "      <td>0.0</td>\n",
       "      <td>118.0</td>\n",
       "      <td>...</td>\n",
       "      <td>0.0</td>\n",
       "      <td>235.0</td>\n",
       "      <td>0.0</td>\n",
       "      <td>421.0</td>\n",
       "      <td>0.0</td>\n",
       "      <td>0.0</td>\n",
       "      <td>86.0</td>\n",
       "      <td>64.0</td>\n",
       "      <td>11.0</td>\n",
       "      <td>171946.0</td>\n",
       "    </tr>\n",
       "    <tr>\n",
       "      <th>2</th>\n",
       "      <td>1986.0</td>\n",
       "      <td>3.0</td>\n",
       "      <td>0.0</td>\n",
       "      <td>204.0</td>\n",
       "      <td>719.0</td>\n",
       "      <td>1086.0</td>\n",
       "      <td>2163.0</td>\n",
       "      <td>0.0</td>\n",
       "      <td>0.0</td>\n",
       "      <td>122.0</td>\n",
       "      <td>...</td>\n",
       "      <td>0.0</td>\n",
       "      <td>245.0</td>\n",
       "      <td>0.0</td>\n",
       "      <td>428.0</td>\n",
       "      <td>0.0</td>\n",
       "      <td>0.0</td>\n",
       "      <td>84.0</td>\n",
       "      <td>56.0</td>\n",
       "      <td>10.0</td>\n",
       "      <td>171582.0</td>\n",
       "    </tr>\n",
       "    <tr>\n",
       "      <th>3</th>\n",
       "      <td>1987.0</td>\n",
       "      <td>3.0</td>\n",
       "      <td>0.0</td>\n",
       "      <td>79.0</td>\n",
       "      <td>693.0</td>\n",
       "      <td>1231.0</td>\n",
       "      <td>1951.0</td>\n",
       "      <td>0.0</td>\n",
       "      <td>0.0</td>\n",
       "      <td>103.0</td>\n",
       "      <td>...</td>\n",
       "      <td>0.0</td>\n",
       "      <td>231.0</td>\n",
       "      <td>0.0</td>\n",
       "      <td>376.0</td>\n",
       "      <td>0.0</td>\n",
       "      <td>0.0</td>\n",
       "      <td>92.0</td>\n",
       "      <td>47.0</td>\n",
       "      <td>1.0</td>\n",
       "      <td>170660.0</td>\n",
       "    </tr>\n",
       "    <tr>\n",
       "      <th>4</th>\n",
       "      <td>1988.0</td>\n",
       "      <td>3.0</td>\n",
       "      <td>0.0</td>\n",
       "      <td>92.0</td>\n",
       "      <td>575.0</td>\n",
       "      <td>1049.0</td>\n",
       "      <td>1966.0</td>\n",
       "      <td>0.0</td>\n",
       "      <td>0.0</td>\n",
       "      <td>76.0</td>\n",
       "      <td>...</td>\n",
       "      <td>0.0</td>\n",
       "      <td>218.0</td>\n",
       "      <td>0.0</td>\n",
       "      <td>356.0</td>\n",
       "      <td>0.0</td>\n",
       "      <td>0.0</td>\n",
       "      <td>97.0</td>\n",
       "      <td>66.0</td>\n",
       "      <td>5.0</td>\n",
       "      <td>176830.0</td>\n",
       "    </tr>\n",
       "  </tbody>\n",
       "</table>\n",
       "<p>5 rows × 143 columns</p>\n",
       "</div>"
      ],
      "text/plain": [
       "     year  admin__special_ed5  adult_continuing_ed_admin5  \\\n",
       "0  1984.0                 0.0                         0.0   \n",
       "1  1985.0                 0.0                         1.0   \n",
       "2  1986.0                 3.0                         0.0   \n",
       "3  1987.0                 3.0                         0.0   \n",
       "4  1988.0                 3.0                         0.0   \n",
       "\n",
       "   adult_continuing_ed_tch5  agricultural_tch_ed5  art_tch_ed5  \\\n",
       "0                     136.0                 866.0       1448.0   \n",
       "1                     300.0                 817.0       1292.0   \n",
       "2                     204.0                 719.0       1086.0   \n",
       "3                      79.0                 693.0       1231.0   \n",
       "4                      92.0                 575.0       1049.0   \n",
       "\n",
       "   business_tch_ed5  coll_student_counseling__perso5  community_coll_ed5  \\\n",
       "0            2106.0                              0.0                 0.0   \n",
       "1            2104.0                              0.0                 0.0   \n",
       "2            2163.0                              0.0                 0.0   \n",
       "3            1951.0                              0.0                 0.0   \n",
       "4            1966.0                              0.0                 0.0   \n",
       "\n",
       "   counselor_ed_school_counseling5    ...     spanish_tch_ed9  sped9  \\\n",
       "0                            122.0    ...                 0.0  239.0   \n",
       "1                            118.0    ...                 0.0  235.0   \n",
       "2                            122.0    ...                 0.0  245.0   \n",
       "3                            103.0    ...                 0.0  231.0   \n",
       "4                             76.0    ...                 0.0  218.0   \n",
       "\n",
       "   speech_tch_ed9  stem9  tch_assistant_aide9  tch_ed_multiple_levels9  \\\n",
       "0             0.0  532.0                  0.0                      0.0   \n",
       "1             0.0  421.0                  0.0                      0.0   \n",
       "2             0.0  428.0                  0.0                      0.0   \n",
       "3             0.0  376.0                  0.0                      0.0   \n",
       "4             0.0  356.0                  0.0                      0.0   \n",
       "\n",
       "   tch_ed_prof_dev_levelmethod9  tch_ed_prof_dev_subjectarea9  \\\n",
       "0                          66.0                         159.0   \n",
       "1                          86.0                          64.0   \n",
       "2                          84.0                          56.0   \n",
       "3                          92.0                          47.0   \n",
       "4                          97.0                          66.0   \n",
       "\n",
       "   teaching_english_as_a_second_o9  aggtotal  \n",
       "0                              4.0  177679.0  \n",
       "1                             11.0  171946.0  \n",
       "2                             10.0  171582.0  \n",
       "3                              1.0  170660.0  \n",
       "4                              5.0  176830.0  \n",
       "\n",
       "[5 rows x 143 columns]"
      ]
     },
     "execution_count": 3,
     "metadata": {},
     "output_type": "execute_result"
    }
   ],
   "source": [
    "df.head(5)"
   ]
  },
  {
   "cell_type": "markdown",
   "metadata": {},
   "source": [
    "### Clean\n",
    "\n",
    "* Create New variables that are the sum of Bachelor (5), Master (7), and PhD (9) degrees"
   ]
  },
  {
   "cell_type": "code",
   "execution_count": 20,
   "metadata": {
    "collapsed": true
   },
   "outputs": [],
   "source": [
    "# Rename column names\n",
    "for oldcol in df.columns:\n",
    "    if \"5\" in oldcol:\n",
    "        newcol = oldcol.replace(\"5\", \"_ba\")\n",
    "        df = df.rename(columns={oldcol: newcol})\n",
    "    if \"7\" in oldcol:\n",
    "        newcol = oldcol.replace(\"7\", \"_ma\")\n",
    "        df = df.rename(columns={oldcol: newcol})\n",
    "    if \"9\" in oldcol:\n",
    "        newcol = oldcol.replace(\"9\", \"_phd\")\n",
    "        df = df.rename(columns={oldcol: newcol})   "
   ]
  },
  {
   "cell_type": "code",
   "execution_count": 5,
   "metadata": {
    "scrolled": true
   },
   "outputs": [
    {
     "data": {
      "text/plain": [
       "Index(['year', 'admin__special_ed_ba', 'adult_continuing_ed_admin_ba',\n",
       "       'adult_continuing_ed_tch_ba', 'agricultural_tch_ed_ba', 'art_tch_ed_ba',\n",
       "       'business_tch_ed_ba', 'coll_student_counseling__perso_ba',\n",
       "       'community_coll_ed_ba', 'counselor_ed_school_counseling_ba',\n",
       "       ...\n",
       "       'spanish_tch_ed_phd', 'sped_phd', 'speech_tch_ed_phd', 'stem_phd',\n",
       "       'tch_assistant_aide_phd', 'tch_ed_multiple_levels_phd',\n",
       "       'tch_ed_prof_dev_levelmethod_phd', 'tch_ed_prof_dev_subjectarea_phd',\n",
       "       'teaching_english_as_a_second_o_phd', 'aggtotal'],\n",
       "      dtype='object', length=143)"
      ]
     },
     "execution_count": 5,
     "metadata": {},
     "output_type": "execute_result"
    }
   ],
   "source": [
    "df.columns"
   ]
  },
  {
   "cell_type": "code",
   "execution_count": 35,
   "metadata": {
    "collapsed": true
   },
   "outputs": [],
   "source": [
    "# Create unique list of column names with the ba, ma, phd suffixes removed\n",
    "collist = []\n",
    "unique = []\n",
    "for oldcol in df.columns:\n",
    "    if oldcol[-3:] == \"_ba\":\n",
    "        newcol = oldcol[:-3] \n",
    "        collist.append(newcol)\n",
    "    if oldcol[-3:] == \"_ma\":\n",
    "        newcol = oldcol[:-3] \n",
    "        collist.append(newcol)\n",
    "    if oldcol[-4:] == \"_phd\":\n",
    "        newcol = oldcol[:-4] \n",
    "        collist.append(newcol)\n",
    "for i in collist:\n",
    "    if i not in unique:\n",
    "        unique.append(i)"
   ]
  },
  {
   "cell_type": "code",
   "execution_count": 38,
   "metadata": {
    "collapsed": true
   },
   "outputs": [],
   "source": [
    "# Create variable for sum of SPED, STEM, Elementary, Other as new columns\n",
    "def cip_total(dfname, major):\n",
    "    df[dfname] = df.fillna(0)[major+'_ba'] + df.fillna(0)[major+'_ma'] + df.fillna(0)[major+'_phd']    "
   ]
  },
  {
   "cell_type": "code",
   "execution_count": 39,
   "metadata": {},
   "outputs": [],
   "source": [
    "for colname in unique:\n",
    "    cip_total(colname+\"_total\", colname)"
   ]
  },
  {
   "cell_type": "markdown",
   "metadata": {},
   "source": [
    "## Graph \n",
    "\n",
    "### Use Plotly\n",
    "\n",
    "Will plot all of the totals onto the graph. "
   ]
  },
  {
   "cell_type": "code",
   "execution_count": 42,
   "metadata": {
    "collapsed": true
   },
   "outputs": [],
   "source": [
    "import plotly.plotly as py\n",
    "import plotly.graph_objs as go\n",
    "import plotly "
   ]
  },
  {
   "cell_type": "code",
   "execution_count": 45,
   "metadata": {
    "collapsed": true
   },
   "outputs": [],
   "source": [
    "import colorlover as cl"
   ]
  },
  {
   "cell_type": "code",
   "execution_count": 147,
   "metadata": {},
   "outputs": [
    {
     "data": {
      "text/html": [
       "<div style=\"display:inline-block;padding:10px;\"><div>Blues</div><div style=\"background-color:rgb(239,243,255);height:20px;width:20px;display:inline-block;\"></div><div style=\"background-color:rgb(189,215,231);height:20px;width:20px;display:inline-block;\"></div><div style=\"background-color:rgb(107,174,214);height:20px;width:20px;display:inline-block;\"></div><div style=\"background-color:rgb(33,113,181);height:20px;width:20px;display:inline-block;\"></div></div><div style=\"display:inline-block;padding:10px;\"><div>BuGn</div><div style=\"background-color:rgb(237,248,251);height:20px;width:20px;display:inline-block;\"></div><div style=\"background-color:rgb(178,226,226);height:20px;width:20px;display:inline-block;\"></div><div style=\"background-color:rgb(102,194,164);height:20px;width:20px;display:inline-block;\"></div><div style=\"background-color:rgb(35,139,69);height:20px;width:20px;display:inline-block;\"></div></div><div style=\"display:inline-block;padding:10px;\"><div>BuPu</div><div style=\"background-color:rgb(237,248,251);height:20px;width:20px;display:inline-block;\"></div><div style=\"background-color:rgb(179,205,227);height:20px;width:20px;display:inline-block;\"></div><div style=\"background-color:rgb(140,150,198);height:20px;width:20px;display:inline-block;\"></div><div style=\"background-color:rgb(136,65,157);height:20px;width:20px;display:inline-block;\"></div></div><div style=\"display:inline-block;padding:10px;\"><div>GnBu</div><div style=\"background-color:rgb(240,249,232);height:20px;width:20px;display:inline-block;\"></div><div style=\"background-color:rgb(186,228,188);height:20px;width:20px;display:inline-block;\"></div><div style=\"background-color:rgb(123,204,196);height:20px;width:20px;display:inline-block;\"></div><div style=\"background-color:rgb(43,140,190);height:20px;width:20px;display:inline-block;\"></div></div><div style=\"display:inline-block;padding:10px;\"><div>Greens</div><div style=\"background-color:rgb(237,248,233);height:20px;width:20px;display:inline-block;\"></div><div style=\"background-color:rgb(186,228,179);height:20px;width:20px;display:inline-block;\"></div><div style=\"background-color:rgb(116,196,118);height:20px;width:20px;display:inline-block;\"></div><div style=\"background-color:rgb(35,139,69);height:20px;width:20px;display:inline-block;\"></div></div><div style=\"display:inline-block;padding:10px;\"><div>Greys</div><div style=\"background-color:rgb(247,247,247);height:20px;width:20px;display:inline-block;\"></div><div style=\"background-color:rgb(204,204,204);height:20px;width:20px;display:inline-block;\"></div><div style=\"background-color:rgb(150,150,150);height:20px;width:20px;display:inline-block;\"></div><div style=\"background-color:rgb(82,82,82);height:20px;width:20px;display:inline-block;\"></div></div><div style=\"display:inline-block;padding:10px;\"><div>OrRd</div><div style=\"background-color:rgb(254,240,217);height:20px;width:20px;display:inline-block;\"></div><div style=\"background-color:rgb(253,204,138);height:20px;width:20px;display:inline-block;\"></div><div style=\"background-color:rgb(252,141,89);height:20px;width:20px;display:inline-block;\"></div><div style=\"background-color:rgb(215,48,31);height:20px;width:20px;display:inline-block;\"></div></div><div style=\"display:inline-block;padding:10px;\"><div>Oranges</div><div style=\"background-color:rgb(254,237,222);height:20px;width:20px;display:inline-block;\"></div><div style=\"background-color:rgb(253,190,133);height:20px;width:20px;display:inline-block;\"></div><div style=\"background-color:rgb(253,141,60);height:20px;width:20px;display:inline-block;\"></div><div style=\"background-color:rgb(217,71,1);height:20px;width:20px;display:inline-block;\"></div></div><div style=\"display:inline-block;padding:10px;\"><div>PuBu</div><div style=\"background-color:rgb(241,238,246);height:20px;width:20px;display:inline-block;\"></div><div style=\"background-color:rgb(189,201,225);height:20px;width:20px;display:inline-block;\"></div><div style=\"background-color:rgb(116,169,207);height:20px;width:20px;display:inline-block;\"></div><div style=\"background-color:rgb(5,112,176);height:20px;width:20px;display:inline-block;\"></div></div><div style=\"display:inline-block;padding:10px;\"><div>PuBuGn</div><div style=\"background-color:rgb(246,239,247);height:20px;width:20px;display:inline-block;\"></div><div style=\"background-color:rgb(189,201,225);height:20px;width:20px;display:inline-block;\"></div><div style=\"background-color:rgb(103,169,207);height:20px;width:20px;display:inline-block;\"></div><div style=\"background-color:rgb(2,129,138);height:20px;width:20px;display:inline-block;\"></div></div><div style=\"display:inline-block;padding:10px;\"><div>PuRd</div><div style=\"background-color:rgb(241,238,246);height:20px;width:20px;display:inline-block;\"></div><div style=\"background-color:rgb(215,181,216);height:20px;width:20px;display:inline-block;\"></div><div style=\"background-color:rgb(223,101,176);height:20px;width:20px;display:inline-block;\"></div><div style=\"background-color:rgb(206,18,86);height:20px;width:20px;display:inline-block;\"></div></div><div style=\"display:inline-block;padding:10px;\"><div>Purples</div><div style=\"background-color:rgb(242,240,247);height:20px;width:20px;display:inline-block;\"></div><div style=\"background-color:rgb(203,201,226);height:20px;width:20px;display:inline-block;\"></div><div style=\"background-color:rgb(158,154,200);height:20px;width:20px;display:inline-block;\"></div><div style=\"background-color:rgb(106,81,163);height:20px;width:20px;display:inline-block;\"></div></div><div style=\"display:inline-block;padding:10px;\"><div>RdPu</div><div style=\"background-color:rgb(254,235,226);height:20px;width:20px;display:inline-block;\"></div><div style=\"background-color:rgb(251,180,185);height:20px;width:20px;display:inline-block;\"></div><div style=\"background-color:rgb(247,104,161);height:20px;width:20px;display:inline-block;\"></div><div style=\"background-color:rgb(174,1,126);height:20px;width:20px;display:inline-block;\"></div></div><div style=\"display:inline-block;padding:10px;\"><div>Reds</div><div style=\"background-color:rgb(254,229,217);height:20px;width:20px;display:inline-block;\"></div><div style=\"background-color:rgb(252,174,145);height:20px;width:20px;display:inline-block;\"></div><div style=\"background-color:rgb(251,106,74);height:20px;width:20px;display:inline-block;\"></div><div style=\"background-color:rgb(203,24,29);height:20px;width:20px;display:inline-block;\"></div></div><div style=\"display:inline-block;padding:10px;\"><div>YlGn</div><div style=\"background-color:rgb(255,255,204);height:20px;width:20px;display:inline-block;\"></div><div style=\"background-color:rgb(194,230,153);height:20px;width:20px;display:inline-block;\"></div><div style=\"background-color:rgb(120,198,121);height:20px;width:20px;display:inline-block;\"></div><div style=\"background-color:rgb(35,132,67);height:20px;width:20px;display:inline-block;\"></div></div><div style=\"display:inline-block;padding:10px;\"><div>YlGnBu</div><div style=\"background-color:rgb(255,255,204);height:20px;width:20px;display:inline-block;\"></div><div style=\"background-color:rgb(161,218,180);height:20px;width:20px;display:inline-block;\"></div><div style=\"background-color:rgb(65,182,196);height:20px;width:20px;display:inline-block;\"></div><div style=\"background-color:rgb(34,94,168);height:20px;width:20px;display:inline-block;\"></div></div><div style=\"display:inline-block;padding:10px;\"><div>YlOrBr</div><div style=\"background-color:rgb(255,255,212);height:20px;width:20px;display:inline-block;\"></div><div style=\"background-color:rgb(254,217,142);height:20px;width:20px;display:inline-block;\"></div><div style=\"background-color:rgb(254,153,41);height:20px;width:20px;display:inline-block;\"></div><div style=\"background-color:rgb(204,76,2);height:20px;width:20px;display:inline-block;\"></div></div><div style=\"display:inline-block;padding:10px;\"><div>YlOrRd</div><div style=\"background-color:rgb(255,255,178);height:20px;width:20px;display:inline-block;\"></div><div style=\"background-color:rgb(254,204,92);height:20px;width:20px;display:inline-block;\"></div><div style=\"background-color:rgb(253,141,60);height:20px;width:20px;display:inline-block;\"></div><div style=\"background-color:rgb(227,26,28);height:20px;width:20px;display:inline-block;\"></div></div>"
      ],
      "text/plain": [
       "<IPython.core.display.HTML object>"
      ]
     },
     "execution_count": 147,
     "metadata": {},
     "output_type": "execute_result"
    }
   ],
   "source": [
    "from IPython.display import HTML\n",
    "HTML(cl.to_html( cl.flipper()['seq']['4'] ))"
   ]
  },
  {
   "cell_type": "code",
   "execution_count": 222,
   "metadata": {},
   "outputs": [
    {
     "name": "stdout",
     "output_type": "stream",
     "text": [
      "Done: 47\n"
     ]
    }
   ],
   "source": [
    "from random import shuffle\n",
    "\n",
    "dictcolors = cl.scales['9']['seq']\n",
    "colors = []\n",
    "for key in dictcolors:\n",
    "    if key in ('Blues', 'Greens', 'Oranges', 'Purples', 'Reds', 'GnBu', 'RdPu'):\n",
    "        for values in dictcolors[key][2:]:\n",
    "            if len(colors)<47:\n",
    "                colors.append(values)\n",
    "print(\"Done:\", len(colors))    \n",
    "shuffle(colors)"
   ]
  },
  {
   "cell_type": "code",
   "execution_count": 43,
   "metadata": {
    "collapsed": true
   },
   "outputs": [],
   "source": [
    "# Initiate using credential and api key\n",
    "plotly.tools.set_credentials_file(username='otteheng', api_key='tAHF2Gvmu31xNtYhuxjS')"
   ]
  },
  {
   "cell_type": "code",
   "execution_count": 226,
   "metadata": {
    "collapsed": true
   },
   "outputs": [],
   "source": [
    "# Define a trace-generating function (returns a Bar object)\n",
    "def make_trace(y, name, color, dashes):\n",
    "    return go.Scatter(\n",
    "        x=df.year,       # x-coords are the years (1984-2016)\n",
    "        y=df[y],            # take in the y-coordinates\n",
    "        name=name,      # label for legend/hover\n",
    "        line = dict(color = color, \n",
    "                    width = 3,\n",
    "                    dash = dashes),\n",
    "        opacity = 0.2,\n",
    "        showlegend = False,\n",
    "            )"
   ]
  },
  {
   "cell_type": "code",
   "execution_count": 228,
   "metadata": {
    "collapsed": true
   },
   "outputs": [],
   "source": [
    "# Define an annotation-generating function\n",
    "def make_annotation2(xval, yval, fsize,txt):\n",
    "    return go.Annotation(\n",
    "        x=xval,\n",
    "        y=yval,\n",
    "        align='left',\n",
    "        ax=-1,\n",
    "        ay=174.608329773,\n",
    "        text=txt,     # text\n",
    "        showarrow=False, # annotation w/o arrows, default is True\n",
    "        xref='paper',          # position text horizontally with x-coords\n",
    "        xanchor='auto',  \n",
    "        yref='paper',            # set y position \n",
    "        yanchor='auto', \n",
    "        font=go.Font(\n",
    "            color='#262626',  # set font color\n",
    "            size=fsize        #   and size   \n",
    "        )\n",
    "    )"
   ]
  },
  {
   "cell_type": "code",
   "execution_count": 250,
   "metadata": {},
   "outputs": [],
   "source": [
    "# Assign a color to each line \n",
    "total = [x for x in df.columns if \"total\"  in x]\n",
    "total = [x for x in test if x not in ('aggtotal', 'stem_total', 'sped_total', 'elem_total')]\n",
    "totalcolor = dict(zip(test, colors))  \n",
    "\n",
    "ba = [x for x in df.columns if i[-3:] == \"_ba\"]\n",
    "ba = [x for x in ba if x not in ('aggtotal', 'stem_total', 'sped_total', 'elem_total')]\n",
    "bacolor = dict(zip(ba, colors))  \n",
    "\n",
    "ma = [x for x in df.columns if i[-3:] == \"_ma\"]\n",
    "ma = [x for x in ma if x not in ('aggtotal', 'stem_total', 'sped_total', 'elem_total')]\n",
    "macolor = dict(zip(ma, colors))  \n",
    "\n",
    "phd = [x for x in df.columns if i[-4:] == \"_phd\"]\n",
    "phd = [x for x in phd if x not in ('aggtotal', 'stem_total', 'sped_total', 'elem_total')]\n",
    "phdcolor = dict(zip(phd, colors))  "
   ]
  },
  {
   "cell_type": "code",
   "execution_count": 251,
   "metadata": {},
   "outputs": [
    {
     "data": {
      "text/html": [
       "<iframe id=\"igraph\" scrolling=\"no\" style=\"border:none;\" seamless=\"seamless\" src=\"https://plot.ly/~otteheng/27.embed\" height=\"525px\" width=\"100%\"></iframe>"
      ],
      "text/plain": [
       "<plotly.tools.PlotlyDisplay object>"
      ]
     },
     "execution_count": 251,
     "metadata": {},
     "output_type": "execute_result"
    }
   ],
   "source": [
    "data = []\n",
    "for key, value in totalcolor.items():\n",
    "    data.append(make_trace(key, key.replace(\"__\", \" \").title().replace(\"Total\", \"\").replace(\"_\", \" \"), value, ''))\n",
    "    if df[key].max()>5000 and df[key].max()<10000:\n",
    "        data[-1]['showlegend'] = True\n",
    "        data[-1]['line']['dash'] = 'dot'\n",
    "        data[-1]['opacity'] = 0.8\n",
    "        data[-1]['legendgroup'] = 'group1'\n",
    "    if df[key].max()>10000 and df[key].max()<15000:\n",
    "        data[-1]['showlegend'] = True\n",
    "        data[-1]['line']['dash'] = 'dash'\n",
    "        data[-1]['opacity'] = 1.0\n",
    "        data[-1]['legendgroup'] = 'group2'\n",
    "    if df[key].max()>15000:\n",
    "        data[-1]['showlegend'] = True\n",
    "#         data[-1]['line']['dash'] = 'dash'\n",
    "        data[-1]['opacity'] = 1.0\n",
    "        data[-1]['legendgroup'] = 'group3'\n",
    "        data[-1]['marker'] = {'color': value, 'symbol': 100, 'size': \"6\"}\n",
    "        data[-1]['mode'] = 'lines+markers'\n",
    "        \n",
    "# Dict containing the title, slider\n",
    "layout = go.Layout(dict(\n",
    "    title='Explore Categories within \"Other\"',\n",
    "#     margin=go.Margin(\n",
    "#             r=5,\n",
    "#             l=10,\n",
    "#             b=100),\n",
    "    hidesources=False,\n",
    "    legend = dict(x=-.39, y=0.0),\n",
    "    yaxis=dict(\n",
    "#          range=[0, 310000],\n",
    "        hoverformat=',f',\n",
    "        showline=True,\n",
    "        zeroline=False),\n",
    "    xaxis=dict(\n",
    "        range=[\"1984\",\"2017\"],\n",
    "        zeroline=False,\n",
    "        nticks=[k for k in range(1984, 2017,5)],\n",
    "        ticks=\"outside\",\n",
    "        showline=True,\n",
    "        type='date'\n",
    "    ),\n",
    "    annotations = [make_annotation2(-.39, 0.9, 12, \"Dashed Lines have a max, in the<br>time observed, over 10,000 but<br>less than 15,000. Dotted<br>have max greater than 5,000 but less than<br>10,000. Lines with a symbol have<br>a max greater than 15,000.\")]\n",
    "    )\n",
    ")\n",
    "\n",
    "fig = go.Figure(dict(data=data, layout=layout))\n",
    "py.iplot(fig, filename = 'Explore Categories within \"Other\"')"
   ]
  },
  {
   "cell_type": "code",
   "execution_count": 249,
   "metadata": {},
   "outputs": [
    {
     "name": "stdout",
     "output_type": "stream",
     "text": [
      "admin__special_ed_ma\n",
      "adult_continuing_ed_admin_ma\n",
      "adult_continuing_ed_tch_ma\n",
      "agricultural_tch_ed_ma\n",
      "art_tch_ed_ma\n",
      "business_tch_ed_ma\n",
      "coll_student_counseling__perso_ma\n",
      "community_coll_ed_ma\n",
      "counselor_ed_school_counseling_ma\n",
      "curr__instruction_ma\n",
      "drama__dance_tch_ed_ma\n",
      "driver__safety_tch_ed_ma\n",
      "ed_general_ma\n",
      "ed_other_ma\n",
      "edal_admin__supervision_other_ma\n",
      "edal_instructional__curr_super_ma\n",
      "edal_leadership__admin_general_ma\n",
      "elem_ma\n",
      "english_language_arts_tch_ed_ma\n",
      "family__consumer_sciences_home_ma\n",
      "foreign_language_tch_ed_ma\n",
      "french_language_tch_ed_ma\n",
      "german_language_tch_ed_ma\n",
      "health_occupations_tch_ed_ma\n",
      "health_tch_ed_ma\n",
      "higher_ed_higher_ed_admin_ma\n",
      "history_tch_ed_ma\n",
      "international__comparative_ed_ma\n",
      "junior_high_intermediate_middl_ma\n",
      "music_tch_ed_ma\n",
      "nurtitional_ed_ma\n",
      "physical_ed_teaching__coaching_ma\n",
      "reading_tch_ed_ma\n",
      "sales__marketing_operations_ma_ma\n",
      "secondary_ed__teaching_ma\n",
      "social__philosophical_foundati_ma\n",
      "social_science_tch_ed_ma\n",
      "social_studies_tch_ed_ma\n",
      "spanish_tch_ed_ma\n",
      "sped_ma\n",
      "speech_tch_ed_ma\n",
      "stem_ma\n",
      "tch_assistant_aide_ma\n",
      "tch_ed_multiple_levels_ma\n",
      "tch_ed_prof_dev_levelmethod_ma\n",
      "tch_ed_prof_dev_subjectarea_ma\n",
      "teaching_english_as_a_second_o_ma\n"
     ]
    }
   ],
   "source": [
    "for i in df.columns:\n",
    "    if i[-3:] == \"_ma\":\n",
    "        print(i)"
   ]
  }
 ],
 "metadata": {
  "kernelspec": {
   "display_name": "Python 3",
   "language": "python",
   "name": "python3"
  },
  "language_info": {
   "codemirror_mode": {
    "name": "ipython",
    "version": 3
   },
   "file_extension": ".py",
   "mimetype": "text/x-python",
   "name": "python",
   "nbconvert_exporter": "python",
   "pygments_lexer": "ipython3",
   "version": "3.6.1"
  }
 },
 "nbformat": 4,
 "nbformat_minor": 2
}
